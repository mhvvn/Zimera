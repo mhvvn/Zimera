{
 "cells": [
  {
   "cell_type": "markdown",
   "metadata": {},
   "source": [
    "##### https://medium.com/@denihhandoko/object-oriented-programming-oop-dengan-python-3-9a618df7429e "
   ]
  },
  {
   "cell_type": "code",
   "execution_count": 15,
   "metadata": {},
   "outputs": [],
   "source": [
    "class Dog :\n",
    "    pass"
   ]
  },
  {
   "cell_type": "code",
   "execution_count": null,
   "metadata": {},
   "outputs": [],
   "source": [
    "class Dog:\n",
    "    #inisiasi atribut instance\n",
    "    def __init__(self, name, age):\n",
    "        self.name = name\n",
    "        self.age = name"
   ]
  },
  {
   "cell_type": "code",
   "execution_count": 12,
   "metadata": {},
   "outputs": [],
   "source": [
    "class Dog:\n",
    "    #class atribut\n",
    "    species = 'mamalia'\n",
    "    #inisiasi atribut instance\n",
    "    def __init__(self, name, age):\n",
    "        self.name = name\n",
    "        self.age = age\n",
    "\n"
   ]
  },
  {
   "cell_type": "code",
   "execution_count": 13,
   "metadata": {},
   "outputs": [
    {
     "name": "stdout",
     "output_type": "stream",
     "text": [
      "Philo is 5 and Mikey is Mikey.\n",
      "Philo is a mamalia\n"
     ]
    }
   ],
   "source": [
    "class Dog:\n",
    "    #class atribut\n",
    "    species = 'mamalia'\n",
    "    #inisiasi atribut instance\n",
    "    def __init__(self, name, age):\n",
    "        self.name = name\n",
    "        self.age = age\n",
    "    #Instantiate dog object\n",
    "    philo = Dog(\"Philo\",5)\n",
    "    mikey = Dog(\"Mikey\", 6)\n",
    "    #aksese atribut instance\n",
    "    print(\"{} is {} and {} is {}.\". format (philo.name, philo.age, mikey.name, mikey.name))\n",
    "    #philo adalah animal ?\n",
    "    if philo.species == 'mamalia':\n",
    "        print(\"{0} is a {1}\". format (philo.name, philo.species))"
   ]
  },
  {
   "cell_type": "code",
   "execution_count": 20,
   "metadata": {},
   "outputs": [
    {
     "name": "stdout",
     "output_type": "stream",
     "text": [
      "Mikey is 6 years old\n",
      "Mikey says Gruff Gruff\n"
     ]
    }
   ],
   "source": [
    "class Dog:\n",
    "# class Attribute\n",
    "    species = 'mammal'\n",
    "# Initializer / Instance Attributes\n",
    "    def __init__(self, name, age):\n",
    "        self.name = name\n",
    "        self.age = age\n",
    "# instance method\n",
    "    def description(self):\n",
    "        return \"{} is {} years old\".format(self.name, self.age)\n",
    "# instance method\n",
    "    def speak(self, sound):\n",
    "        return \"{} says {}\".format(self.name, sound)\n",
    "# Instantiate the Dog object\n",
    "mikey = Dog(\"Mikey\", 6)\n",
    "# call our instance methods\n",
    "print(mikey.description())\n",
    "print(mikey.speak(\"Gruff Gruff\"))"
   ]
  },
  {
   "cell_type": "code",
   "execution_count": 21,
   "metadata": {},
   "outputs": [
    {
     "name": "stdout",
     "output_type": "stream",
     "text": [
      "Titik A memiliki koordinat (0,0)\n",
      "Titik B memiliki koordinat (3,4)\n"
     ]
    }
   ],
   "source": [
    "class Titik:\n",
    "  def __init__(self,x,y):\n",
    "    self.x = x\n",
    "    self.y = y\n",
    "\n",
    "titik_a = Titik(0,0)\n",
    "titik_b = Titik(3,4)\n",
    "print('Titik A memiliki koordinat ({},{})'.format(titik_a.x,titik_a.y))\n",
    "print('Titik B memiliki koordinat ({},{})'.format(titik_b.x,titik_b.y))"
   ]
  },
  {
   "cell_type": "code",
   "execution_count": null,
   "metadata": {},
   "outputs": [],
   "source": []
  }
 ],
 "metadata": {
  "interpreter": {
   "hash": "3ec2e826fe7ca9323b3f984616cd30f504a4ade2993493b6226c2daad478f383"
  },
  "kernelspec": {
   "display_name": "Python 3.9.5 64-bit ('base': conda)",
   "name": "python3"
  },
  "language_info": {
   "codemirror_mode": {
    "name": "ipython",
    "version": 3
   },
   "file_extension": ".py",
   "mimetype": "text/x-python",
   "name": "python",
   "nbconvert_exporter": "python",
   "pygments_lexer": "ipython3",
   "version": "3.9.5"
  },
  "orig_nbformat": 4
 },
 "nbformat": 4,
 "nbformat_minor": 2
}
