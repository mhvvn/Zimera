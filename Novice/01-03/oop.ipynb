{
 "cells": [
  {
   "cell_type": "markdown",
   "metadata": {},
   "source": [
    "##### https://medium.com/@denihhandoko/object-oriented-programming-oop-dengan-python-3-9a618df7429e "
   ]
  },
  {
   "cell_type": "code",
   "execution_count": 15,
   "metadata": {},
   "outputs": [],
   "source": [
    "class Dog :\n",
    "    pass"
   ]
  },
  {
   "cell_type": "code",
   "execution_count": null,
   "metadata": {},
   "outputs": [],
   "source": [
    "class Dog:\n",
    "    #inisiasi atribut instance\n",
    "    def __init__(self, name, age):\n",
    "        self.name = name\n",
    "        self.age = name"
   ]
  },
  {
   "cell_type": "code",
   "execution_count": 12,
   "metadata": {},
   "outputs": [],
   "source": [
    "class Dog:\n",
    "    #class atribut\n",
    "    species = 'mamalia'\n",
    "    #inisiasi atribut instance\n",
    "    def __init__(self, name, age):\n",
    "        self.name = name\n",
    "        self.age = age\n",
    "\n"
   ]
  },
  {
   "cell_type": "code",
   "execution_count": 13,
   "metadata": {},
   "outputs": [
    {
     "name": "stdout",
     "output_type": "stream",
     "text": [
      "Philo is 5 and Mikey is Mikey.\n",
      "Philo is a mamalia\n"
     ]
    }
   ],
   "source": [
    "class Dog:\n",
    "    #class atribut\n",
    "    species = 'mamalia'\n",
    "    #inisiasi atribut instance\n",
    "    def __init__(self, name, age):\n",
    "        self.name = name\n",
    "        self.age = age\n",
    "    #Instantiate dog object\n",
    "    philo = Dog(\"Philo\",5)\n",
    "    mikey = Dog(\"Mikey\", 6)\n",
    "    #aksese atribut instance\n",
    "    print(\"{} is {} and {} is {}.\". format (philo.name, philo.age, mikey.name, mikey.name))\n",
    "    #philo adalah animal ?\n",
    "    if philo.species == 'mamalia':\n",
    "        print(\"{0} is a {1}\". format (philo.name, philo.species))"
   ]
  },
  {
   "cell_type": "code",
   "execution_count": 20,
   "metadata": {},
   "outputs": [
    {
     "name": "stdout",
     "output_type": "stream",
     "text": [
      "Mikey is 6 years old\n",
      "Mikey says Gruff Gruff\n"
     ]
    }
   ],
   "source": [
    "class Dog:\n",
    "# class Attribute\n",
    "    species = 'mammal'\n",
    "# Initializer / Instance Attributes\n",
    "    def __init__(self, name, age):\n",
    "        self.name = name\n",
    "        self.age = age\n",
    "# instance method\n",
    "    def description(self):\n",
    "        return \"{} is {} years old\".format(self.name, self.age)\n",
    "# instance method\n",
    "    def speak(self, sound):\n",
    "        return \"{} says {}\".format(self.name, sound)\n",
    "# Instantiate the Dog object\n",
    "mikey = Dog(\"Mikey\", 6)\n",
    "# call our instance methods\n",
    "print(mikey.description())\n",
    "print(mikey.speak(\"Gruff Gruff\"))"
   ]
  },
  {
   "cell_type": "code",
   "execution_count": 22,
   "metadata": {},
   "outputs": [],
   "source": [
    "class Pengunjung :\n",
    "    def __init__(self, Noantrian, Nama, email, hp):\n",
    "        self.noantrian = antrian\n",
    "        self.name = nama\n",
    "        self.email = mail\n",
    "        self.hp = nohp\n",
    "\n",
    "    def displayPassenger(self):\n",
    "        print(input(\"No Antrian : \", self.noantrian))\n",
    "        print(input(\"Name : \", self.name))\n",
    "        print(input(\"Email : \", self.email))\n",
    "        print(input(\"Phone Number : \", self.hp))"
   ]
  },
  {
   "cell_type": "code",
   "execution_count": 23,
   "metadata": {},
   "outputs": [],
   "source": [
    "class Pesan:\n",
    "    def __init__(self):\n",
    "        print(\"class pesan\")\n",
    "    \n",
    "    def setPesan(self, idpesan, waktupesan, jumlahpesan):\n",
    "        pesan.idpesan = idpesan\n",
    "        pesan.waktupesan = waktupesan\n",
    "        pesan.jumlahpesan = jumlahpesan\n",
    "        \n",
    "    \n",
    "    def getPesan(self):\n",
    "        print(\"id Pesan         = \", pesan.idpesan)\n",
    "        print(\"Waktu Pesan + \", waktupesan)\n",
    "        print(\"Jumlah Pesanan + \", jumlahpesan)\n",
    "        "
   ]
  },
  {
   "cell_type": "code",
   "execution_count": 24,
   "metadata": {},
   "outputs": [],
   "source": [
    "class Bayar:\n",
    "\tdef __init__(self):\n",
    "\t\tpass\n",
    "\n",
    "\tdef setBayar(self, payar):\n",
    "\t\tBayar.payar = bayar\n",
    "\n",
    "\tdef getBayar(self):\n",
    "\t\tprint(\"Total Pembayaran . \", Bayar.Bayar)"
   ]
  },
  {
   "cell_type": "code",
   "execution_count": null,
   "metadata": {},
   "outputs": [],
   "source": []
  }
 ],
 "metadata": {
  "interpreter": {
   "hash": "3ec2e826fe7ca9323b3f984616cd30f504a4ade2993493b6226c2daad478f383"
  },
  "kernelspec": {
   "display_name": "Python 3.9.5 64-bit ('base': conda)",
   "name": "python3"
  },
  "language_info": {
   "codemirror_mode": {
    "name": "ipython",
    "version": 3
   },
   "file_extension": ".py",
   "mimetype": "text/x-python",
   "name": "python",
   "nbconvert_exporter": "python",
   "pygments_lexer": "ipython3",
   "version": "3.9.5"
  },
  "orig_nbformat": 4
 },
 "nbformat": 4,
 "nbformat_minor": 2
}
