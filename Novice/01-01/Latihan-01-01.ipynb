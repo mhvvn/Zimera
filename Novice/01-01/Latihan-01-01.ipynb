{
 "cells": [
  {
   "cell_type": "code",
   "execution_count": 1,
   "id": "0ede407e-c5fa-453f-8d8c-dc406d6310d5",
   "metadata": {},
   "outputs": [
    {
     "data": {
      "text/plain": [
       "[2, 4, 5, 6, 8]"
      ]
     },
     "execution_count": 1,
     "metadata": {},
     "output_type": "execute_result"
    }
   ],
   "source": [
    "array = [8,2,6,4,5]\n",
    "sorted(array)"
   ]
  },
  {
   "cell_type": "code",
   "execution_count": 11,
   "id": "5e0b51a9-6941-4925-95b3-d629bf43e241",
   "metadata": {},
   "outputs": [
    {
     "name": "stdout",
     "output_type": "stream",
     "text": [
      "[1, 3, 4, 34, 56, 100]\n"
     ]
    },
    {
     "data": {
      "text/plain": [
       "[1, 3, 4, 34, 56, 100]"
      ]
     },
     "execution_count": 11,
     "metadata": {},
     "output_type": "execute_result"
    }
   ],
   "source": [
    ">>> #contoh cara mengurukan data di dalam list python\n",
    ">>> \n",
    ">>> #inisialisasi variabel luas dengan nilai berformat list\n",
    ">>> luas = [34, 56, 1, 3, 4, 100]\n",
    ">>> \n",
    ">>> #urutkan data di dalam list dari yang terkecil ke yang terbesar\n",
    ">>> luas.sort()\n",
    ">>> \n",
    ">>> #tampilkan nilai dari variabel luas setelah pengurutan\n",
    ">>> print(luas)\n",
    "[1, 3, 4, 34, 56, 100]"
   ]
  },
  {
   "cell_type": "code",
   "execution_count": 3,
   "id": "d7299943-98db-4d56-bf40-b1cf56565b96",
   "metadata": {},
   "outputs": [
    {
     "name": "stdout",
     "output_type": "stream",
     "text": [
      "sebelum diurutkan\n",
      "[11, 23, 13, 21, 64, 82, 26, 70, 3, 9]\n",
      "setelah diurutkan:\n",
      "[3, 9, 11, 13, 21, 23, 26, 64, 70, 82]\n",
      "Waktu untuk mengurutkan:  0.0002071857452392578\n"
     ]
    }
   ],
   "source": [
    "import time\n",
    "\n",
    "num_list = [11, 23, 13, 21, 64, 82, 26, 70, 3, 9]\n",
    "\n",
    "print(\"sebelum diurutkan\")\n",
    "print(num_list)\n",
    "\n",
    "n = len(num_list)\n",
    "\n",
    "start_time = time.time()\n",
    "\n",
    "for i in range(n):\n",
    "\n",
    "    already_sorted = True\n",
    "\n",
    "    for j in range(n - i - 1):\n",
    "        if num_list[j] > num_list[j + 1]:\n",
    "            num_list[j], num_list[j + 1] = num_list[j + 1], num_list[j]\n",
    "\n",
    "            already_sorted = False\n",
    "\n",
    "    if already_sorted:\n",
    "        break\n",
    "\n",
    "end_time = time.time()\n",
    "\n",
    "print(\"setelah diurutkan:\")\n",
    "print(num_list)\n",
    "print(\"Waktu untuk mengurutkan: \", end_time - start_time)"
   ]
  },
  {
   "cell_type": "code",
   "execution_count": 10,
   "id": "2a5c4ccc-03ac-406c-84a5-fc4eefdacb51",
   "metadata": {},
   "outputs": [
    {
     "ename": "SyntaxError",
     "evalue": "invalid syntax (890693567.py, line 3)",
     "output_type": "error",
     "traceback": [
      "\u001b[0;36m  File \u001b[0;32m\"/tmp/ipykernel_9679/890693567.py\"\u001b[0;36m, line \u001b[0;32m3\u001b[0m\n\u001b[0;31m    looping dari i = 1 s/d n - 1\u001b[0m\n\u001b[0m            ^\u001b[0m\n\u001b[0;31mSyntaxError\u001b[0m\u001b[0;31m:\u001b[0m invalid syntax\n"
     ]
    }
   ],
   "source": [
    "# Sortir arr[] berukuran n\n",
    "insertion_sort(arr, n)\n",
    "looping dari i = 1 s/d n - 1\n",
    "Ambil elemen arr[i[ dan sisipkan pada deret yang sudah berurut arr[0..1-1]"
   ]
  },
  {
   "cell_type": "code",
   "execution_count": null,
   "id": "d7296069-8979-4e71-a6bf-7a316654be78",
   "metadata": {},
   "outputs": [],
   "source": []
  }
 ],
 "metadata": {
  "kernelspec": {
   "display_name": "Python 3 (ipykernel)",
   "language": "python",
   "name": "python3"
  },
  "language_info": {
   "codemirror_mode": {
    "name": "ipython",
    "version": 3
   },
   "file_extension": ".py",
   "mimetype": "text/x-python",
   "name": "python",
   "nbconvert_exporter": "python",
   "pygments_lexer": "ipython3",
   "version": "3.9.5"
  }
 },
 "nbformat": 4,
 "nbformat_minor": 5
}
