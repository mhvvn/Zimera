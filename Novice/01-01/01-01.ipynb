{
 "cells": [
  {
   "cell_type": "code",
   "execution_count": 2,
   "id": "cb3a1990-913b-4b7b-9c26-ad24e3fecf49",
   "metadata": {},
   "outputs": [],
   "source": [
    "import sys"
   ]
  },
  {
   "cell_type": "code",
   "execution_count": 3,
   "id": "117973f5-4892-4126-8eff-e4bec6779920",
   "metadata": {},
   "outputs": [
    {
     "name": "stdout",
     "output_type": "stream",
     "text": [
      "-f\n"
     ]
    }
   ],
   "source": [
    "print(sys.argv[1])"
   ]
  },
  {
   "cell_type": "code",
   "execution_count": 5,
   "id": "eba05027-cf6e-4f77-934e-4a78de849dae",
   "metadata": {},
   "outputs": [
    {
     "name": "stdout",
     "output_type": "stream",
     "text": [
      "Be careful not to fall off!\n"
     ]
    }
   ],
   "source": [
    "the_world_is_flat= True\n",
    "if the_world_is_flat:\n",
    "    print(\"Be careful not to fall off!\")"
   ]
  },
  {
   "cell_type": "code",
   "execution_count": 6,
   "id": "ef730213-362a-4f31-96d5-64775b0fed38",
   "metadata": {},
   "outputs": [
    {
     "name": "stdout",
     "output_type": "stream",
     "text": [
      "Halo!\n"
     ]
    }
   ],
   "source": [
    "# -*- codinf=g: utf8 -*-\n",
    "\n",
    "# Lihat codecs yang di dukung di:\n",
    "#  https://docs.python.org/3.9/library/codecs.html#module-codecs\n",
    "\n",
    "print (\"Halo!\")"
   ]
  },
  {
   "cell_type": "code",
   "execution_count": 7,
   "id": "f2a340aa-dbd4-480f-862d-67c4fa480223",
   "metadata": {},
   "outputs": [],
   "source": [
    "# this is the first comment\n",
    "\n",
    "spam = 1 #and this is second comment \n",
    "        # and this now the third comment!!\n",
    "text = \"# this is not a commnet because it's inside the quotes.\"\n"
   ]
  },
  {
   "cell_type": "code",
   "execution_count": 8,
   "id": "7ced66e6-fe89-4ea2-b2ba-76e215add9c6",
   "metadata": {},
   "outputs": [
    {
     "name": "stdout",
     "output_type": "stream",
     "text": [
      "4\n",
      "20\n",
      "5.0\n",
      "1.6\n",
      "5.666666666666667\n",
      "5\n",
      "2\n",
      "17\n",
      "25\n",
      "128\n",
      "900\n",
      "14.0\n"
     ]
    }
   ],
   "source": [
    "print (2+2)\n",
    "print (50-5*6)\n",
    "print ((50-5*6)/4)\n",
    "print (8 / 5 ) # division always returns a floating point number\n",
    "print ( 17 /3) # classic division returns a float\n",
    "print (17 // 3) # floor division discards the fractional part\n",
    "print (17 % 3 ) # the % operator returns the remainder of the division\n",
    "print ( 5 * 3 + 2) # floored quotient * divisor + remainder\n",
    "print ( 5** 2 ) # 5 squared\n",
    "print (2 ** 7) # 2 to the power of 7\n",
    "\n",
    "width = 20 \n",
    "height = 5 *9\n",
    "print(width * height)\n",
    "\n",
    "print (4*3.75 -1)\n",
    "\n",
    "# Hanya di REPL:\n",
    "# tax = 12.5 / 100\n",
    "# price = 100.50\n",
    "# price * tax\n",
    "# price + _\n",
    "# round(_, 2)"
   ]
  },
  {
   "cell_type": "code",
   "execution_count": 9,
   "id": "eb82827d-5692-46c8-8c92-23094364f3c1",
   "metadata": {},
   "outputs": [
    {
     "ename": "NameError",
     "evalue": "name 'n' is not defined",
     "output_type": "error",
     "traceback": [
      "\u001b[0;31m---------------------------------------------------------------------------\u001b[0m",
      "\u001b[0;31mNameError\u001b[0m                                 Traceback (most recent call last)",
      "\u001b[0;32m/tmp/ipykernel_14762/18103570.py\u001b[0m in \u001b[0;36m<module>\u001b[0;34m\u001b[0m\n\u001b[0;32m----> 1\u001b[0;31m \u001b[0mn\u001b[0m  \u001b[0;31m# try to access an undefined variable\u001b[0m\u001b[0;34m\u001b[0m\u001b[0;34m\u001b[0m\u001b[0m\n\u001b[0m",
      "\u001b[0;31mNameError\u001b[0m: name 'n' is not defined"
     ]
    }
   ],
   "source": [
    "n  # try to access an undefined variable"
   ]
  },
  {
   "cell_type": "code",
   "execution_count": 10,
   "id": "f561b026-7328-483f-a257-288dbf4283d9",
   "metadata": {},
   "outputs": [
    {
     "data": {
      "text/plain": [
       "'spam eggs'"
      ]
     },
     "execution_count": 10,
     "metadata": {},
     "output_type": "execute_result"
    }
   ],
   "source": [
    "'spam eggs' #string quptes"
   ]
  },
  {
   "cell_type": "code",
   "execution_count": 11,
   "id": "036ff869-df44-4b4a-b25e-d45c4506c295",
   "metadata": {},
   "outputs": [
    {
     "data": {
      "text/plain": [
       "\"doesn't\""
      ]
     },
     "execution_count": 11,
     "metadata": {},
     "output_type": "execute_result"
    }
   ],
   "source": [
    "'doesn\\'t'  # use \\' to escape the single quote..."
   ]
  },
  {
   "cell_type": "code",
   "execution_count": 12,
   "id": "e0c01c35-b09d-4d6e-8208-04a1423c6fba",
   "metadata": {},
   "outputs": [
    {
     "data": {
      "text/plain": [
       "\"doesn't\""
      ]
     },
     "execution_count": 12,
     "metadata": {},
     "output_type": "execute_result"
    }
   ],
   "source": [
    "\"doesn't\"  # ...or use double quotes instead"
   ]
  },
  {
   "cell_type": "code",
   "execution_count": 13,
   "id": "c345a464-ca0c-4ca6-b057-0f7f12a7b8c4",
   "metadata": {},
   "outputs": [
    {
     "data": {
      "text/plain": [
       "'\"Yes,\" they said.'"
      ]
     },
     "execution_count": 13,
     "metadata": {},
     "output_type": "execute_result"
    }
   ],
   "source": [
    "'\"Yes,\" they said.'"
   ]
  },
  {
   "cell_type": "code",
   "execution_count": 14,
   "id": "8540718c-bb6b-4c10-9df9-6a3fedec9cea",
   "metadata": {},
   "outputs": [
    {
     "data": {
      "text/plain": [
       "'\"Yes,\" they said.'"
      ]
     },
     "execution_count": 14,
     "metadata": {},
     "output_type": "execute_result"
    }
   ],
   "source": [
    "\"\\\"Yes,\\\" they said.\""
   ]
  },
  {
   "cell_type": "code",
   "execution_count": 15,
   "id": "5780988e-fc75-4ee3-a6a4-f25d4d50bbb0",
   "metadata": {},
   "outputs": [
    {
     "data": {
      "text/plain": [
       "'\"Isn\\'t,\" they said.'"
      ]
     },
     "execution_count": 15,
     "metadata": {},
     "output_type": "execute_result"
    }
   ],
   "source": [
    "'\"Isn\\'t,\" they said.'"
   ]
  },
  {
   "cell_type": "code",
   "execution_count": 16,
   "id": "98f1b8c0-2adb-4eb4-b158-4ca8291b5db8",
   "metadata": {},
   "outputs": [
    {
     "name": "stdout",
     "output_type": "stream",
     "text": [
      "\"Isn't,\" they said.\n"
     ]
    }
   ],
   "source": [
    "print('\"Isn\\'t,\" they said.')"
   ]
  },
  {
   "cell_type": "code",
   "execution_count": 19,
   "id": "4e66ae2b-30eb-453d-95de-9e2bc0a2af79",
   "metadata": {},
   "outputs": [
    {
     "data": {
      "text/plain": [
       "'First line.\\nSecond line.'"
      ]
     },
     "execution_count": 19,
     "metadata": {},
     "output_type": "execute_result"
    }
   ],
   "source": [
    "s = 'First line.\\nSecond line.'  # \\n means newline\n",
    "s"
   ]
  },
  {
   "cell_type": "code",
   "execution_count": 20,
   "id": "016ae326-62b9-4352-bbb8-1ab04af31039",
   "metadata": {},
   "outputs": [
    {
     "name": "stdout",
     "output_type": "stream",
     "text": [
      "First line.\n",
      "Second line.\n"
     ]
    }
   ],
   "source": [
    "print (s) # with print(), \\n produces a new line"
   ]
  },
  {
   "cell_type": "code",
   "execution_count": 21,
   "id": "141dfbce-70fa-4783-aab8-cc5eed4d5fae",
   "metadata": {},
   "outputs": [
    {
     "name": "stdout",
     "output_type": "stream",
     "text": [
      "C:\\some\n",
      "ame\n",
      "C:\\some\\name\n"
     ]
    }
   ],
   "source": [
    "print('C:\\some\\name')\n",
    "print(r'C:\\some\\name')"
   ]
  },
  {
   "cell_type": "code",
   "execution_count": 22,
   "id": "28d61ce4-7cda-473e-a4e0-f23ef5688408",
   "metadata": {},
   "outputs": [
    {
     "name": "stdout",
     "output_type": "stream",
     "text": [
      "Usage: thingy [OPTIONS]\n",
      "     -h                        Display this usage message\n",
      "     -H hostname               Hostname to connect to\n",
      "\n"
     ]
    }
   ],
   "source": [
    "print(\"\"\"\\\n",
    "Usage: thingy [OPTIONS]\n",
    "     -h                        Display this usage message\n",
    "     -H hostname               Hostname to connect to\n",
    "\"\"\")"
   ]
  },
  {
   "cell_type": "code",
   "execution_count": 23,
   "id": "e561ec97-f96d-4515-9d1f-38faee964b10",
   "metadata": {},
   "outputs": [
    {
     "data": {
      "text/plain": [
       "'unununium'"
      ]
     },
     "execution_count": 23,
     "metadata": {},
     "output_type": "execute_result"
    }
   ],
   "source": [
    "3 * 'un' + 'ium'"
   ]
  },
  {
   "cell_type": "code",
   "execution_count": 24,
   "id": "928cb360-f20a-4dde-a2a7-d95739d2031c",
   "metadata": {},
   "outputs": [
    {
     "data": {
      "text/plain": [
       "'Python'"
      ]
     },
     "execution_count": 24,
     "metadata": {},
     "output_type": "execute_result"
    }
   ],
   "source": [
    "'Py' 'thon'"
   ]
  },
  {
   "cell_type": "code",
   "execution_count": 25,
   "id": "015f0eaa-ff2a-4bda-896f-215b0470116f",
   "metadata": {},
   "outputs": [
    {
     "name": "stdout",
     "output_type": "stream",
     "text": [
      "Put several strings within parentheses to have them joined together.\n"
     ]
    }
   ],
   "source": [
    "text = ('Put several strings within parentheses '\n",
    "        'to have them joined together.')\n",
    "print(text)"
   ]
  },
  {
   "cell_type": "code",
   "execution_count": 32,
   "id": "81f008d9-5de0-40e5-9a8e-2a5a912f3ffb",
   "metadata": {},
   "outputs": [
    {
     "ename": "SyntaxError",
     "evalue": "invalid syntax (369527832.py, line 2)",
     "output_type": "error",
     "traceback": [
      "\u001b[0;36m  File \u001b[0;32m\"/tmp/ipykernel_14762/369527832.py\"\u001b[0;36m, line \u001b[0;32m2\u001b[0m\n\u001b[0;31m    prefix 'thon'  # can't concatenate a variable and a string literal\u001b[0m\n\u001b[0m           ^\u001b[0m\n\u001b[0;31mSyntaxError\u001b[0m\u001b[0;31m:\u001b[0m invalid syntax\n"
     ]
    }
   ],
   "source": [
    "prefix = 'Py'\n",
    "prefix 'thon'  # can't concatenate a variable and a string literal"
   ]
  },
  {
   "cell_type": "code",
   "execution_count": 27,
   "id": "14cc847c-a638-4f29-85ca-8d74d57ff40f",
   "metadata": {},
   "outputs": [
    {
     "ename": "SyntaxError",
     "evalue": "invalid syntax (3357839946.py, line 1)",
     "output_type": "error",
     "traceback": [
      "\u001b[0;36m  File \u001b[0;32m\"/tmp/ipykernel_14762/3357839946.py\"\u001b[0;36m, line \u001b[0;32m1\u001b[0m\n\u001b[0;31m    ('un' * 3) 'ium'\u001b[0m\n\u001b[0m               ^\u001b[0m\n\u001b[0;31mSyntaxError\u001b[0m\u001b[0;31m:\u001b[0m invalid syntax\n"
     ]
    }
   ],
   "source": [
    "('un' * 3) 'ium'"
   ]
  },
  {
   "cell_type": "code",
   "execution_count": 30,
   "id": "453d69d4-fd94-4b36-bdde-08561766d6ae",
   "metadata": {},
   "outputs": [
    {
     "data": {
      "text/plain": [
       "'Python'"
      ]
     },
     "execution_count": 30,
     "metadata": {},
     "output_type": "execute_result"
    }
   ],
   "source": [
    "prefix = 'Py'\n",
    "prefix + 'thon'"
   ]
  },
  {
   "cell_type": "code",
   "execution_count": 34,
   "id": "63d6ee2e-dbae-437c-8d3d-a1a2d77d2d71",
   "metadata": {},
   "outputs": [
    {
     "name": "stdout",
     "output_type": "stream",
     "text": [
      "P\n",
      "n\n",
      "n\n",
      "o\n",
      "P\n",
      "Py\n",
      "on\n",
      "on\n",
      "Python\n",
      "Python\n",
      "\n"
     ]
    }
   ],
   "source": [
    "#  +---+---+---+---+---+---+\n",
    "# | P | y | t | h | o | n |\n",
    "# +---+---+---+---+---+---+\n",
    "# 0   1   2   3   4   5   6\n",
    "#-6  -5  -4  -3  -2  -1\n",
    "\n",
    "word = 'Python'\n",
    "print(word[0])  # character in position 0\n",
    "print(word[5])  # character in position 5\n",
    "print(word[-1])  # last character\n",
    "print(word[-2])  # second-last character\n",
    "print(word[-6])\n",
    "\n",
    "print(word[:2])   # character from the beginning to position 2 (excluded)\n",
    "print(word[4:])   # characters from position 4 (included) to the end\n",
    "print(word[-2:])  # characters from the second-last (included) to the end\n",
    "print(word[:2] + word[2:])\n",
    "print(word[:4] + word[4:])\n",
    "\n",
    "print(word[4:0])"
   ]
  },
  {
   "cell_type": "code",
   "execution_count": 35,
   "id": "8ccbd1d6-3cae-4f05-acf6-875d9bed3272",
   "metadata": {},
   "outputs": [
    {
     "name": "stdout",
     "output_type": "stream",
     "text": [
      "on\n",
      "\n"
     ]
    }
   ],
   "source": [
    "print(word[4:42])\n",
    "print(word[42:])"
   ]
  },
  {
   "cell_type": "code",
   "execution_count": 36,
   "id": "402fe106-25ef-4b5c-92e6-e1cdc22adb93",
   "metadata": {},
   "outputs": [
    {
     "ename": "TypeError",
     "evalue": "'str' object does not support item assignment",
     "output_type": "error",
     "traceback": [
      "\u001b[0;31m---------------------------------------------------------------------------\u001b[0m",
      "\u001b[0;31mTypeError\u001b[0m                                 Traceback (most recent call last)",
      "\u001b[0;32m/tmp/ipykernel_14762/1964428376.py\u001b[0m in \u001b[0;36m<module>\u001b[0;34m\u001b[0m\n\u001b[1;32m      1\u001b[0m \u001b[0;31m# immutable\u001b[0m\u001b[0;34m\u001b[0m\u001b[0;34m\u001b[0m\u001b[0;34m\u001b[0m\u001b[0m\n\u001b[0;32m----> 2\u001b[0;31m \u001b[0mword\u001b[0m\u001b[0;34m[\u001b[0m\u001b[0;36m0\u001b[0m\u001b[0;34m]\u001b[0m \u001b[0;34m=\u001b[0m \u001b[0;34m'J'\u001b[0m\u001b[0;34m\u001b[0m\u001b[0;34m\u001b[0m\u001b[0m\n\u001b[0m",
      "\u001b[0;31mTypeError\u001b[0m: 'str' object does not support item assignment"
     ]
    }
   ],
   "source": [
    "# immutable\n",
    "word[0] = 'J'"
   ]
  },
  {
   "cell_type": "code",
   "execution_count": 37,
   "id": "9d108997-c208-4e2d-83d6-8ed9071e88b0",
   "metadata": {},
   "outputs": [
    {
     "name": "stdout",
     "output_type": "stream",
     "text": [
      "Jython\n"
     ]
    }
   ],
   "source": [
    "new_string = 'J' + word[1:]\n",
    "print(new_string)"
   ]
  },
  {
   "cell_type": "code",
   "execution_count": 38,
   "id": "f159752f-b168-40b9-b745-f10e898f124c",
   "metadata": {},
   "outputs": [
    {
     "data": {
      "text/plain": [
       "6"
      ]
     },
     "execution_count": 38,
     "metadata": {},
     "output_type": "execute_result"
    }
   ],
   "source": [
    "len(word)"
   ]
  },
  {
   "cell_type": "code",
   "execution_count": 39,
   "id": "1ec0fe55-eba5-45ee-9b7f-91436f01dea8",
   "metadata": {},
   "outputs": [
    {
     "data": {
      "text/plain": [
       "9"
      ]
     },
     "execution_count": 39,
     "metadata": {},
     "output_type": "execute_result"
    }
   ],
   "source": [
    "squares = [1, 4, 9, 16, 25]\n",
    "squares[2]"
   ]
  },
  {
   "cell_type": "code",
   "execution_count": 40,
   "id": "57c83d20-366b-4243-baae-fb55c79a0b11",
   "metadata": {},
   "outputs": [
    {
     "data": {
      "text/plain": [
       "[1, 4, 9, 16, 25]"
      ]
     },
     "execution_count": 40,
     "metadata": {},
     "output_type": "execute_result"
    }
   ],
   "source": [
    "squares[:] # shallow copy - mengkonstruksi obyek baru dan kemudian menempatkan referensi ke nilai asli"
   ]
  },
  {
   "cell_type": "code",
   "execution_count": 41,
   "id": "46c07971-2595-4ae2-886b-36164031b946",
   "metadata": {},
   "outputs": [
    {
     "data": {
      "text/plain": [
       "[1, 4, 9, 16, 25, 36, 49, 64, 81, 100]"
      ]
     },
     "execution_count": 41,
     "metadata": {},
     "output_type": "execute_result"
    }
   ],
   "source": [
    "squares + [36, 49, 64, 81, 100]"
   ]
  },
  {
   "cell_type": "code",
   "execution_count": 42,
   "id": "df7a9ffa-3543-4d7f-a9a1-dcaf9dd1b828",
   "metadata": {},
   "outputs": [
    {
     "name": "stdout",
     "output_type": "stream",
     "text": [
      "[1, 8, 27, 65, 125]\n",
      "[1, 8, 27, 64, 125]\n"
     ]
    }
   ],
   "source": [
    "# list => mutable\n",
    "cubes = [1, 8, 27, 65, 125]\n",
    "print(cubes)\n",
    "cubes[3] = 64\n",
    "print(cubes)"
   ]
  },
  {
   "cell_type": "code",
   "execution_count": 43,
   "id": "b810a3f4-c201-421f-8683-f00b9ceb54f7",
   "metadata": {},
   "outputs": [
    {
     "name": "stdout",
     "output_type": "stream",
     "text": [
      "[1, 8, 27, 64, 125, 216, 343]\n"
     ]
    }
   ],
   "source": [
    "cubes.append(216)\n",
    "cubes.append(7 ** 3)\n",
    "print(cubes)"
   ]
  },
  {
   "cell_type": "code",
   "execution_count": 44,
   "id": "42da565c-318d-4217-bf64-14b9c9030ea1",
   "metadata": {},
   "outputs": [
    {
     "name": "stdout",
     "output_type": "stream",
     "text": [
      "['a', 'b', 'c', 'd', 'e', 'f', 'g']\n",
      "['a', 'b', 'C', 'D', 'E', 'f', 'g']\n",
      "['a', 'b', 'f', 'g']\n",
      "[]\n"
     ]
    }
   ],
   "source": [
    "letters = ['a', 'b', 'c', 'd', 'e', 'f', 'g']\n",
    "print(letters)\n",
    "letters[2:5] = ['C', 'D', 'E']\n",
    "print(letters)\n",
    "letters[2:5] = []\n",
    "print(letters)\n",
    "# clear the list by replacing all the elements with an empty list\n",
    "letters[:] = []\n",
    "print(letters)"
   ]
  },
  {
   "cell_type": "code",
   "execution_count": 45,
   "id": "b736497b-94c3-4511-8c5f-8d8d5e803feb",
   "metadata": {},
   "outputs": [
    {
     "data": {
      "text/plain": [
       "7"
      ]
     },
     "execution_count": 45,
     "metadata": {},
     "output_type": "execute_result"
    }
   ],
   "source": [
    "letters = ['a', 'b', 'c', 'd', 'e', 'f', 'g']\n",
    "len(letters)"
   ]
  },
  {
   "cell_type": "code",
   "execution_count": 46,
   "id": "b31f1001-218e-4606-af70-12f66374d1c2",
   "metadata": {},
   "outputs": [
    {
     "name": "stdout",
     "output_type": "stream",
     "text": [
      "[['a', 'b', 'c'], [1, 2, 3]]\n",
      "['a', 'b', 'c']\n",
      "b\n"
     ]
    }
   ],
   "source": [
    "a = ['a', 'b', 'c']\n",
    "n = [1, 2, 3]\n",
    "x = [a, n]\n",
    "print(x)\n",
    "print(x[0])\n",
    "print(x[0][1])"
   ]
  },
  {
   "cell_type": "code",
   "execution_count": 47,
   "id": "b0e25ab1-6b25-4427-b8c4-ab70cffa35f9",
   "metadata": {},
   "outputs": [
    {
     "name": "stdout",
     "output_type": "stream",
     "text": [
      "0\n",
      "1\n",
      "1\n",
      "2\n",
      "3\n",
      "5\n",
      "8\n"
     ]
    }
   ],
   "source": [
    "a,b = 0,1\n",
    "while a < 10:\n",
    "    print(a)\n",
    "    a,b = b, a+b"
   ]
  },
  {
   "cell_type": "code",
   "execution_count": 48,
   "id": "e72d82e8-1697-42bf-8269-bf7411b74244",
   "metadata": {},
   "outputs": [
    {
     "name": "stdout",
     "output_type": "stream",
     "text": [
      "The value of i is 65536\n"
     ]
    }
   ],
   "source": [
    "i = 256*256\n",
    "print('The value of i is', i )"
   ]
  },
  {
   "cell_type": "code",
   "execution_count": 49,
   "id": "630ae75d-0f97-4678-8878-7c3a5ffc4f6b",
   "metadata": {},
   "outputs": [
    {
     "name": "stdout",
     "output_type": "stream",
     "text": [
      "0,1,1,2,3,5,8,13,21,34,55,89,144,233,377,610,987,"
     ]
    }
   ],
   "source": [
    "# end => jgn memunculkan new line\n",
    "a,b = 0,1\n",
    "while a < 1000:\n",
    "    print(a , end = ',')\n",
    "    a,b = b, a+b"
   ]
  },
  {
   "cell_type": "code",
   "execution_count": 66,
   "id": "642a9af0-3125-46f6-8302-61d236ab1962",
   "metadata": {},
   "outputs": [
    {
     "name": "stdout",
     "output_type": "stream",
     "text": [
      " Please input an integer : 5\n"
     ]
    },
    {
     "name": "stdout",
     "output_type": "stream",
     "text": [
      "More\n"
     ]
    }
   ],
   "source": [
    "x = int(input(\" Please input an integer :\"))\n",
    "if x < 0:\n",
    "    x = 0\n",
    "    print (\"Negative changed to zero\")\n",
    "elif x == 0:\n",
    "    print (\"Zero\")\n",
    "elif x ==1 :\n",
    "    print (\"Single\")\n",
    "else :\n",
    "    print (\"More\")"
   ]
  },
  {
   "cell_type": "code",
   "execution_count": 67,
   "id": "41110ca4-fe2f-43d1-acfc-1f9b4e5d10da",
   "metadata": {},
   "outputs": [
    {
     "name": "stdout",
     "output_type": "stream",
     "text": [
      "cat 3\n",
      "window 6\n",
      "defenestrate 12\n"
     ]
    }
   ],
   "source": [
    "words = ['cat','window','defenestrate']\n",
    "for w in words:\n",
    "    print(w, len(w))"
   ]
  },
  {
   "cell_type": "code",
   "execution_count": 69,
   "id": "6c059824-bfdf-4e13-92e4-bfb3263356a7",
   "metadata": {},
   "outputs": [
    {
     "name": "stdout",
     "output_type": "stream",
     "text": [
      "cat 3\n",
      "window 6\n",
      "defenestrate 12\n",
      "['cataaa', 'windowaaa', 'defenestrate']\n"
     ]
    }
   ],
   "source": [
    "words = ['cat','window','defenestrate']\n",
    "index = 0\n",
    "for w in words:\n",
    "    print(w,len(w))\n",
    "    if len(w) < 8:\n",
    "        words[index] = words[index] + 'aaa'\n",
    "    index = index +1\n",
    "print(words)\n",
    "    "
   ]
  },
  {
   "cell_type": "code",
   "execution_count": null,
   "id": "386b8143-07fc-46db-8034-67c1078f15ca",
   "metadata": {},
   "outputs": [],
   "source": []
  }
 ],
 "metadata": {
  "kernelspec": {
   "display_name": "Python 3 (ipykernel)",
   "language": "python",
   "name": "python3"
  },
  "language_info": {
   "codemirror_mode": {
    "name": "ipython",
    "version": 3
   },
   "file_extension": ".py",
   "mimetype": "text/x-python",
   "name": "python",
   "nbconvert_exporter": "python",
   "pygments_lexer": "ipython3",
   "version": "3.9.5"
  }
 },
 "nbformat": 4,
 "nbformat_minor": 5
}
